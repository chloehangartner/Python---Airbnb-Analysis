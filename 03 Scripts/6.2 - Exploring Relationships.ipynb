{
 "cells": [
  {
   "cell_type": "code",
   "execution_count": 1,
   "id": "2c1089b7",
   "metadata": {},
   "outputs": [],
   "source": [
    "# import libraries\n",
    "import pandas as pd\n",
    "import numpy as np\n",
    "import seaborn as sns\n",
    "import matplotlib.pyplot as plt\n",
    "import matplotlib\n",
    "import os"
   ]
  },
  {
   "cell_type": "code",
   "execution_count": 2,
   "id": "eb1680af",
   "metadata": {},
   "outputs": [
    {
     "data": {
      "text/plain": [
       "'3.5.1'"
      ]
     },
     "execution_count": 2,
     "metadata": {},
     "output_type": "execute_result"
    }
   ],
   "source": [
    "matplotlib.__version__"
   ]
  },
  {
   "cell_type": "code",
   "execution_count": 3,
   "id": "0705234c",
   "metadata": {},
   "outputs": [],
   "source": [
    "# This option ensures the charts you create are displayed in the notebook without the need to \"call\" them specifically.\n",
    "\n",
    "%matplotlib inline"
   ]
  },
  {
   "cell_type": "code",
   "execution_count": 4,
   "id": "9baea944",
   "metadata": {},
   "outputs": [],
   "source": [
    "# Define path\n",
    "\n",
    "path = r'/Users/Chloe/Documents/2. CareerFoundry/2. Data Immersion pt 1/Achievement 6/Final Data Project/02 Data/Prepared Data'"
   ]
  },
  {
   "cell_type": "code",
   "execution_count": 5,
   "id": "3c395336",
   "metadata": {},
   "outputs": [
    {
     "data": {
      "text/plain": [
       "'/Users/Chloe/Documents/2. CareerFoundry/2. Data Immersion pt 1/Achievement 6/Final Data Project/02 Data/Prepared Data'"
      ]
     },
     "execution_count": 5,
     "metadata": {},
     "output_type": "execute_result"
    }
   ],
   "source": [
    "path"
   ]
  },
  {
   "cell_type": "code",
   "execution_count": 6,
   "id": "fcf9e9b1",
   "metadata": {},
   "outputs": [
    {
     "name": "stderr",
     "output_type": "stream",
     "text": [
      "/var/folders/z2/5vq5z7g94w536gb5fb2v7sv40000gn/T/ipykernel_17518/2740001317.py:3: DtypeWarning: Columns (4) have mixed types. Specify dtype option on import or set low_memory=False.\n",
      "  df = pd.read_csv(os.path.join(path, 'AB_US_2020_clean.csv'))\n"
     ]
    }
   ],
   "source": [
    "# Import most updated data\n",
    "\n",
    "df = pd.read_csv(os.path.join(path, 'AB_US_2020_clean.csv'))"
   ]
  },
  {
   "cell_type": "code",
   "execution_count": 7,
   "id": "1d8330b9",
   "metadata": {},
   "outputs": [
    {
     "name": "stdout",
     "output_type": "stream",
     "text": [
      "name\n",
      "neighbourhood_group\n",
      "last_review\n"
     ]
    }
   ],
   "source": [
    "#check for mix type values\n",
    "for col in df.columns.tolist():\n",
    "  weird = (df[[col]].applymap(type) != df[[col]].iloc[0].apply(type)).any(axis = 1)\n",
    "  if len (df[weird]) > 0:\n",
    "    print (col)"
   ]
  },
  {
   "cell_type": "code",
   "execution_count": 8,
   "id": "a6e59a91",
   "metadata": {},
   "outputs": [
    {
     "data": {
      "text/html": [
       "<div>\n",
       "<style scoped>\n",
       "    .dataframe tbody tr th:only-of-type {\n",
       "        vertical-align: middle;\n",
       "    }\n",
       "\n",
       "    .dataframe tbody tr th {\n",
       "        vertical-align: top;\n",
       "    }\n",
       "\n",
       "    .dataframe thead th {\n",
       "        text-align: right;\n",
       "    }\n",
       "</style>\n",
       "<table border=\"1\" class=\"dataframe\">\n",
       "  <thead>\n",
       "    <tr style=\"text-align: right;\">\n",
       "      <th></th>\n",
       "      <th>Unnamed: 0</th>\n",
       "      <th>id</th>\n",
       "      <th>name</th>\n",
       "      <th>host_id</th>\n",
       "      <th>neighbourhood_group</th>\n",
       "      <th>neighbourhood</th>\n",
       "      <th>latitude</th>\n",
       "      <th>longitude</th>\n",
       "      <th>room_type</th>\n",
       "      <th>price</th>\n",
       "      <th>minimum_nights</th>\n",
       "      <th>number_of_reviews</th>\n",
       "      <th>last_review</th>\n",
       "      <th>reviews_per_month</th>\n",
       "      <th>calculated_host_listings_count</th>\n",
       "      <th>availability_365</th>\n",
       "      <th>city</th>\n",
       "    </tr>\n",
       "  </thead>\n",
       "  <tbody>\n",
       "    <tr>\n",
       "      <th>0</th>\n",
       "      <td>0</td>\n",
       "      <td>38585</td>\n",
       "      <td>Charming Victorian home - twin beds + breakfast</td>\n",
       "      <td>165529</td>\n",
       "      <td>NaN</td>\n",
       "      <td>28804</td>\n",
       "      <td>35.65146</td>\n",
       "      <td>-82.62792</td>\n",
       "      <td>Private room</td>\n",
       "      <td>60</td>\n",
       "      <td>1</td>\n",
       "      <td>138</td>\n",
       "      <td>16/02/20</td>\n",
       "      <td>1.14</td>\n",
       "      <td>1</td>\n",
       "      <td>0</td>\n",
       "      <td>Asheville</td>\n",
       "    </tr>\n",
       "    <tr>\n",
       "      <th>1</th>\n",
       "      <td>1</td>\n",
       "      <td>80905</td>\n",
       "      <td>French Chic Loft</td>\n",
       "      <td>427027</td>\n",
       "      <td>NaN</td>\n",
       "      <td>28801</td>\n",
       "      <td>35.59779</td>\n",
       "      <td>-82.55540</td>\n",
       "      <td>Entire home/apt</td>\n",
       "      <td>470</td>\n",
       "      <td>1</td>\n",
       "      <td>114</td>\n",
       "      <td>07/09/20</td>\n",
       "      <td>1.03</td>\n",
       "      <td>11</td>\n",
       "      <td>288</td>\n",
       "      <td>Asheville</td>\n",
       "    </tr>\n",
       "    <tr>\n",
       "      <th>2</th>\n",
       "      <td>2</td>\n",
       "      <td>108061</td>\n",
       "      <td>Walk to stores/parks/downtown. Fenced yard/Pet...</td>\n",
       "      <td>320564</td>\n",
       "      <td>NaN</td>\n",
       "      <td>28801</td>\n",
       "      <td>35.60670</td>\n",
       "      <td>-82.55563</td>\n",
       "      <td>Entire home/apt</td>\n",
       "      <td>75</td>\n",
       "      <td>30</td>\n",
       "      <td>89</td>\n",
       "      <td>30/11/19</td>\n",
       "      <td>0.81</td>\n",
       "      <td>2</td>\n",
       "      <td>298</td>\n",
       "      <td>Asheville</td>\n",
       "    </tr>\n",
       "    <tr>\n",
       "      <th>3</th>\n",
       "      <td>3</td>\n",
       "      <td>155305</td>\n",
       "      <td>Cottage! BonPaul + Sharky's Hostel</td>\n",
       "      <td>746673</td>\n",
       "      <td>NaN</td>\n",
       "      <td>28806</td>\n",
       "      <td>35.57864</td>\n",
       "      <td>-82.59578</td>\n",
       "      <td>Entire home/apt</td>\n",
       "      <td>90</td>\n",
       "      <td>1</td>\n",
       "      <td>267</td>\n",
       "      <td>22/09/20</td>\n",
       "      <td>2.39</td>\n",
       "      <td>5</td>\n",
       "      <td>0</td>\n",
       "      <td>Asheville</td>\n",
       "    </tr>\n",
       "    <tr>\n",
       "      <th>4</th>\n",
       "      <td>4</td>\n",
       "      <td>160594</td>\n",
       "      <td>Historic Grove Park</td>\n",
       "      <td>769252</td>\n",
       "      <td>NaN</td>\n",
       "      <td>28801</td>\n",
       "      <td>35.61442</td>\n",
       "      <td>-82.54127</td>\n",
       "      <td>Private room</td>\n",
       "      <td>125</td>\n",
       "      <td>30</td>\n",
       "      <td>58</td>\n",
       "      <td>19/10/15</td>\n",
       "      <td>0.52</td>\n",
       "      <td>1</td>\n",
       "      <td>0</td>\n",
       "      <td>Asheville</td>\n",
       "    </tr>\n",
       "  </tbody>\n",
       "</table>\n",
       "</div>"
      ],
      "text/plain": [
       "   Unnamed: 0      id                                               name  \\\n",
       "0           0   38585    Charming Victorian home - twin beds + breakfast   \n",
       "1           1   80905                                   French Chic Loft   \n",
       "2           2  108061  Walk to stores/parks/downtown. Fenced yard/Pet...   \n",
       "3           3  155305                 Cottage! BonPaul + Sharky's Hostel   \n",
       "4           4  160594                                Historic Grove Park   \n",
       "\n",
       "   host_id neighbourhood_group neighbourhood  latitude  longitude  \\\n",
       "0   165529                 NaN         28804  35.65146  -82.62792   \n",
       "1   427027                 NaN         28801  35.59779  -82.55540   \n",
       "2   320564                 NaN         28801  35.60670  -82.55563   \n",
       "3   746673                 NaN         28806  35.57864  -82.59578   \n",
       "4   769252                 NaN         28801  35.61442  -82.54127   \n",
       "\n",
       "         room_type  price  minimum_nights  number_of_reviews last_review  \\\n",
       "0     Private room     60               1                138    16/02/20   \n",
       "1  Entire home/apt    470               1                114    07/09/20   \n",
       "2  Entire home/apt     75              30                 89    30/11/19   \n",
       "3  Entire home/apt     90               1                267    22/09/20   \n",
       "4     Private room    125              30                 58    19/10/15   \n",
       "\n",
       "   reviews_per_month  calculated_host_listings_count  availability_365  \\\n",
       "0               1.14                               1                 0   \n",
       "1               1.03                              11               288   \n",
       "2               0.81                               2               298   \n",
       "3               2.39                               5                 0   \n",
       "4               0.52                               1                 0   \n",
       "\n",
       "        city  \n",
       "0  Asheville  \n",
       "1  Asheville  \n",
       "2  Asheville  \n",
       "3  Asheville  \n",
       "4  Asheville  "
      ]
     },
     "execution_count": 8,
     "metadata": {},
     "output_type": "execute_result"
    }
   ],
   "source": [
    "df.head()"
   ]
  },
  {
   "cell_type": "code",
   "execution_count": 9,
   "id": "0a71bdba",
   "metadata": {},
   "outputs": [],
   "source": [
    "# fix mix type value columns\n",
    "\n",
    "df['name'] = df['name'].astype('str')\n",
    "df['neighbourhood_group'] = df['neighbourhood_group'].astype('str')\n",
    "df['last_review'] = df['last_review'].astype('str')"
   ]
  },
  {
   "cell_type": "code",
   "execution_count": 10,
   "id": "2b73dca9",
   "metadata": {},
   "outputs": [
    {
     "data": {
      "text/plain": [
       "Unnamed: 0                          int64\n",
       "id                                  int64\n",
       "name                               object\n",
       "host_id                             int64\n",
       "neighbourhood_group                object\n",
       "neighbourhood                      object\n",
       "latitude                          float64\n",
       "longitude                         float64\n",
       "room_type                          object\n",
       "price                               int64\n",
       "minimum_nights                      int64\n",
       "number_of_reviews                   int64\n",
       "last_review                        object\n",
       "reviews_per_month                 float64\n",
       "calculated_host_listings_count      int64\n",
       "availability_365                    int64\n",
       "city                               object\n",
       "dtype: object"
      ]
     },
     "execution_count": 10,
     "metadata": {},
     "output_type": "execute_result"
    }
   ],
   "source": [
    "df.dtypes"
   ]
  },
  {
   "cell_type": "code",
   "execution_count": 11,
   "id": "a4f7099b",
   "metadata": {},
   "outputs": [],
   "source": [
    "#check for mix type values\n",
    "for col in df.columns.tolist():\n",
    "  weird = (df[[col]].applymap(type) != df[[col]].iloc[0].apply(type)).any(axis = 1)\n",
    "  if len (df[weird]) > 0:\n",
    "    print (col)\n",
    "    \n",
    "#no mix types values!"
   ]
  },
  {
   "cell_type": "code",
   "execution_count": 12,
   "id": "b92f5c1e",
   "metadata": {},
   "outputs": [],
   "source": [
    "# drop Unnamed column\n",
    "\n",
    "df = df.drop(columns = ['Unnamed: 0'])"
   ]
  },
  {
   "cell_type": "code",
   "execution_count": 13,
   "id": "89b84bd1",
   "metadata": {},
   "outputs": [
    {
     "data": {
      "text/html": [
       "<div>\n",
       "<style scoped>\n",
       "    .dataframe tbody tr th:only-of-type {\n",
       "        vertical-align: middle;\n",
       "    }\n",
       "\n",
       "    .dataframe tbody tr th {\n",
       "        vertical-align: top;\n",
       "    }\n",
       "\n",
       "    .dataframe thead th {\n",
       "        text-align: right;\n",
       "    }\n",
       "</style>\n",
       "<table border=\"1\" class=\"dataframe\">\n",
       "  <thead>\n",
       "    <tr style=\"text-align: right;\">\n",
       "      <th></th>\n",
       "      <th>id</th>\n",
       "      <th>name</th>\n",
       "      <th>host_id</th>\n",
       "      <th>neighbourhood_group</th>\n",
       "      <th>neighbourhood</th>\n",
       "      <th>latitude</th>\n",
       "      <th>longitude</th>\n",
       "      <th>room_type</th>\n",
       "      <th>price</th>\n",
       "      <th>minimum_nights</th>\n",
       "      <th>number_of_reviews</th>\n",
       "      <th>last_review</th>\n",
       "      <th>reviews_per_month</th>\n",
       "      <th>calculated_host_listings_count</th>\n",
       "      <th>availability_365</th>\n",
       "      <th>city</th>\n",
       "    </tr>\n",
       "  </thead>\n",
       "  <tbody>\n",
       "    <tr>\n",
       "      <th>0</th>\n",
       "      <td>38585</td>\n",
       "      <td>Charming Victorian home - twin beds + breakfast</td>\n",
       "      <td>165529</td>\n",
       "      <td>nan</td>\n",
       "      <td>28804</td>\n",
       "      <td>35.65146</td>\n",
       "      <td>-82.62792</td>\n",
       "      <td>Private room</td>\n",
       "      <td>60</td>\n",
       "      <td>1</td>\n",
       "      <td>138</td>\n",
       "      <td>16/02/20</td>\n",
       "      <td>1.14</td>\n",
       "      <td>1</td>\n",
       "      <td>0</td>\n",
       "      <td>Asheville</td>\n",
       "    </tr>\n",
       "    <tr>\n",
       "      <th>1</th>\n",
       "      <td>80905</td>\n",
       "      <td>French Chic Loft</td>\n",
       "      <td>427027</td>\n",
       "      <td>nan</td>\n",
       "      <td>28801</td>\n",
       "      <td>35.59779</td>\n",
       "      <td>-82.55540</td>\n",
       "      <td>Entire home/apt</td>\n",
       "      <td>470</td>\n",
       "      <td>1</td>\n",
       "      <td>114</td>\n",
       "      <td>07/09/20</td>\n",
       "      <td>1.03</td>\n",
       "      <td>11</td>\n",
       "      <td>288</td>\n",
       "      <td>Asheville</td>\n",
       "    </tr>\n",
       "    <tr>\n",
       "      <th>2</th>\n",
       "      <td>108061</td>\n",
       "      <td>Walk to stores/parks/downtown. Fenced yard/Pet...</td>\n",
       "      <td>320564</td>\n",
       "      <td>nan</td>\n",
       "      <td>28801</td>\n",
       "      <td>35.60670</td>\n",
       "      <td>-82.55563</td>\n",
       "      <td>Entire home/apt</td>\n",
       "      <td>75</td>\n",
       "      <td>30</td>\n",
       "      <td>89</td>\n",
       "      <td>30/11/19</td>\n",
       "      <td>0.81</td>\n",
       "      <td>2</td>\n",
       "      <td>298</td>\n",
       "      <td>Asheville</td>\n",
       "    </tr>\n",
       "    <tr>\n",
       "      <th>3</th>\n",
       "      <td>155305</td>\n",
       "      <td>Cottage! BonPaul + Sharky's Hostel</td>\n",
       "      <td>746673</td>\n",
       "      <td>nan</td>\n",
       "      <td>28806</td>\n",
       "      <td>35.57864</td>\n",
       "      <td>-82.59578</td>\n",
       "      <td>Entire home/apt</td>\n",
       "      <td>90</td>\n",
       "      <td>1</td>\n",
       "      <td>267</td>\n",
       "      <td>22/09/20</td>\n",
       "      <td>2.39</td>\n",
       "      <td>5</td>\n",
       "      <td>0</td>\n",
       "      <td>Asheville</td>\n",
       "    </tr>\n",
       "    <tr>\n",
       "      <th>4</th>\n",
       "      <td>160594</td>\n",
       "      <td>Historic Grove Park</td>\n",
       "      <td>769252</td>\n",
       "      <td>nan</td>\n",
       "      <td>28801</td>\n",
       "      <td>35.61442</td>\n",
       "      <td>-82.54127</td>\n",
       "      <td>Private room</td>\n",
       "      <td>125</td>\n",
       "      <td>30</td>\n",
       "      <td>58</td>\n",
       "      <td>19/10/15</td>\n",
       "      <td>0.52</td>\n",
       "      <td>1</td>\n",
       "      <td>0</td>\n",
       "      <td>Asheville</td>\n",
       "    </tr>\n",
       "  </tbody>\n",
       "</table>\n",
       "</div>"
      ],
      "text/plain": [
       "       id                                               name  host_id  \\\n",
       "0   38585    Charming Victorian home - twin beds + breakfast   165529   \n",
       "1   80905                                   French Chic Loft   427027   \n",
       "2  108061  Walk to stores/parks/downtown. Fenced yard/Pet...   320564   \n",
       "3  155305                 Cottage! BonPaul + Sharky's Hostel   746673   \n",
       "4  160594                                Historic Grove Park   769252   \n",
       "\n",
       "  neighbourhood_group neighbourhood  latitude  longitude        room_type  \\\n",
       "0                 nan         28804  35.65146  -82.62792     Private room   \n",
       "1                 nan         28801  35.59779  -82.55540  Entire home/apt   \n",
       "2                 nan         28801  35.60670  -82.55563  Entire home/apt   \n",
       "3                 nan         28806  35.57864  -82.59578  Entire home/apt   \n",
       "4                 nan         28801  35.61442  -82.54127     Private room   \n",
       "\n",
       "   price  minimum_nights  number_of_reviews last_review  reviews_per_month  \\\n",
       "0     60               1                138    16/02/20               1.14   \n",
       "1    470               1                114    07/09/20               1.03   \n",
       "2     75              30                 89    30/11/19               0.81   \n",
       "3     90               1                267    22/09/20               2.39   \n",
       "4    125              30                 58    19/10/15               0.52   \n",
       "\n",
       "   calculated_host_listings_count  availability_365       city  \n",
       "0                               1                 0  Asheville  \n",
       "1                              11               288  Asheville  \n",
       "2                               2               298  Asheville  \n",
       "3                               5                 0  Asheville  \n",
       "4                               1                 0  Asheville  "
      ]
     },
     "execution_count": 13,
     "metadata": {},
     "output_type": "execute_result"
    }
   ],
   "source": [
    "df.head()"
   ]
  },
  {
   "cell_type": "markdown",
   "id": "5da3947e",
   "metadata": {},
   "source": [
    "# Exploring Relationships"
   ]
  },
  {
   "cell_type": "code",
   "execution_count": 14,
   "id": "f0f76f81",
   "metadata": {},
   "outputs": [
    {
     "data": {
      "text/html": [
       "<div>\n",
       "<style scoped>\n",
       "    .dataframe tbody tr th:only-of-type {\n",
       "        vertical-align: middle;\n",
       "    }\n",
       "\n",
       "    .dataframe tbody tr th {\n",
       "        vertical-align: top;\n",
       "    }\n",
       "\n",
       "    .dataframe thead th {\n",
       "        text-align: right;\n",
       "    }\n",
       "</style>\n",
       "<table border=\"1\" class=\"dataframe\">\n",
       "  <thead>\n",
       "    <tr style=\"text-align: right;\">\n",
       "      <th></th>\n",
       "      <th>id</th>\n",
       "      <th>host_id</th>\n",
       "      <th>latitude</th>\n",
       "      <th>longitude</th>\n",
       "      <th>price</th>\n",
       "      <th>minimum_nights</th>\n",
       "      <th>number_of_reviews</th>\n",
       "      <th>reviews_per_month</th>\n",
       "      <th>calculated_host_listings_count</th>\n",
       "      <th>availability_365</th>\n",
       "    </tr>\n",
       "  </thead>\n",
       "  <tbody>\n",
       "    <tr>\n",
       "      <th>id</th>\n",
       "      <td>1.000000</td>\n",
       "      <td>0.537812</td>\n",
       "      <td>-0.057875</td>\n",
       "      <td>-0.010406</td>\n",
       "      <td>0.021400</td>\n",
       "      <td>-0.001617</td>\n",
       "      <td>-0.381549</td>\n",
       "      <td>0.061313</td>\n",
       "      <td>0.162187</td>\n",
       "      <td>0.051100</td>\n",
       "    </tr>\n",
       "    <tr>\n",
       "      <th>host_id</th>\n",
       "      <td>0.537812</td>\n",
       "      <td>1.000000</td>\n",
       "      <td>-0.049197</td>\n",
       "      <td>0.009212</td>\n",
       "      <td>0.019818</td>\n",
       "      <td>-0.002003</td>\n",
       "      <td>-0.188811</td>\n",
       "      <td>0.064491</td>\n",
       "      <td>0.103270</td>\n",
       "      <td>0.086512</td>\n",
       "    </tr>\n",
       "    <tr>\n",
       "      <th>latitude</th>\n",
       "      <td>-0.057875</td>\n",
       "      <td>-0.049197</td>\n",
       "      <td>1.000000</td>\n",
       "      <td>0.579913</td>\n",
       "      <td>-0.054397</td>\n",
       "      <td>0.000647</td>\n",
       "      <td>0.047353</td>\n",
       "      <td>0.047339</td>\n",
       "      <td>-0.182688</td>\n",
       "      <td>-0.177597</td>\n",
       "    </tr>\n",
       "    <tr>\n",
       "      <th>longitude</th>\n",
       "      <td>-0.010406</td>\n",
       "      <td>0.009212</td>\n",
       "      <td>0.579913</td>\n",
       "      <td>1.000000</td>\n",
       "      <td>-0.057780</td>\n",
       "      <td>-0.001541</td>\n",
       "      <td>-0.034381</td>\n",
       "      <td>-0.019222</td>\n",
       "      <td>-0.168422</td>\n",
       "      <td>-0.145708</td>\n",
       "    </tr>\n",
       "    <tr>\n",
       "      <th>price</th>\n",
       "      <td>0.021400</td>\n",
       "      <td>0.019818</td>\n",
       "      <td>-0.054397</td>\n",
       "      <td>-0.057780</td>\n",
       "      <td>1.000000</td>\n",
       "      <td>-0.000560</td>\n",
       "      <td>-0.072522</td>\n",
       "      <td>-0.036940</td>\n",
       "      <td>0.043074</td>\n",
       "      <td>0.035139</td>\n",
       "    </tr>\n",
       "    <tr>\n",
       "      <th>minimum_nights</th>\n",
       "      <td>-0.001617</td>\n",
       "      <td>-0.002003</td>\n",
       "      <td>0.000647</td>\n",
       "      <td>-0.001541</td>\n",
       "      <td>-0.000560</td>\n",
       "      <td>1.000000</td>\n",
       "      <td>-0.000886</td>\n",
       "      <td>-0.001790</td>\n",
       "      <td>-0.000638</td>\n",
       "      <td>-0.002381</td>\n",
       "    </tr>\n",
       "    <tr>\n",
       "      <th>number_of_reviews</th>\n",
       "      <td>-0.381549</td>\n",
       "      <td>-0.188811</td>\n",
       "      <td>0.047353</td>\n",
       "      <td>-0.034381</td>\n",
       "      <td>-0.072522</td>\n",
       "      <td>-0.000886</td>\n",
       "      <td>1.000000</td>\n",
       "      <td>0.702132</td>\n",
       "      <td>-0.119576</td>\n",
       "      <td>0.052081</td>\n",
       "    </tr>\n",
       "    <tr>\n",
       "      <th>reviews_per_month</th>\n",
       "      <td>0.061313</td>\n",
       "      <td>0.064491</td>\n",
       "      <td>0.047339</td>\n",
       "      <td>-0.019222</td>\n",
       "      <td>-0.036940</td>\n",
       "      <td>-0.001790</td>\n",
       "      <td>0.702132</td>\n",
       "      <td>1.000000</td>\n",
       "      <td>-0.065488</td>\n",
       "      <td>0.037794</td>\n",
       "    </tr>\n",
       "    <tr>\n",
       "      <th>calculated_host_listings_count</th>\n",
       "      <td>0.162187</td>\n",
       "      <td>0.103270</td>\n",
       "      <td>-0.182688</td>\n",
       "      <td>-0.168422</td>\n",
       "      <td>0.043074</td>\n",
       "      <td>-0.000638</td>\n",
       "      <td>-0.119576</td>\n",
       "      <td>-0.065488</td>\n",
       "      <td>1.000000</td>\n",
       "      <td>0.162445</td>\n",
       "    </tr>\n",
       "    <tr>\n",
       "      <th>availability_365</th>\n",
       "      <td>0.051100</td>\n",
       "      <td>0.086512</td>\n",
       "      <td>-0.177597</td>\n",
       "      <td>-0.145708</td>\n",
       "      <td>0.035139</td>\n",
       "      <td>-0.002381</td>\n",
       "      <td>0.052081</td>\n",
       "      <td>0.037794</td>\n",
       "      <td>0.162445</td>\n",
       "      <td>1.000000</td>\n",
       "    </tr>\n",
       "  </tbody>\n",
       "</table>\n",
       "</div>"
      ],
      "text/plain": [
       "                                      id   host_id  latitude  longitude  \\\n",
       "id                              1.000000  0.537812 -0.057875  -0.010406   \n",
       "host_id                         0.537812  1.000000 -0.049197   0.009212   \n",
       "latitude                       -0.057875 -0.049197  1.000000   0.579913   \n",
       "longitude                      -0.010406  0.009212  0.579913   1.000000   \n",
       "price                           0.021400  0.019818 -0.054397  -0.057780   \n",
       "minimum_nights                 -0.001617 -0.002003  0.000647  -0.001541   \n",
       "number_of_reviews              -0.381549 -0.188811  0.047353  -0.034381   \n",
       "reviews_per_month               0.061313  0.064491  0.047339  -0.019222   \n",
       "calculated_host_listings_count  0.162187  0.103270 -0.182688  -0.168422   \n",
       "availability_365                0.051100  0.086512 -0.177597  -0.145708   \n",
       "\n",
       "                                   price  minimum_nights  number_of_reviews  \\\n",
       "id                              0.021400       -0.001617          -0.381549   \n",
       "host_id                         0.019818       -0.002003          -0.188811   \n",
       "latitude                       -0.054397        0.000647           0.047353   \n",
       "longitude                      -0.057780       -0.001541          -0.034381   \n",
       "price                           1.000000       -0.000560          -0.072522   \n",
       "minimum_nights                 -0.000560        1.000000          -0.000886   \n",
       "number_of_reviews              -0.072522       -0.000886           1.000000   \n",
       "reviews_per_month              -0.036940       -0.001790           0.702132   \n",
       "calculated_host_listings_count  0.043074       -0.000638          -0.119576   \n",
       "availability_365                0.035139       -0.002381           0.052081   \n",
       "\n",
       "                                reviews_per_month  \\\n",
       "id                                       0.061313   \n",
       "host_id                                  0.064491   \n",
       "latitude                                 0.047339   \n",
       "longitude                               -0.019222   \n",
       "price                                   -0.036940   \n",
       "minimum_nights                          -0.001790   \n",
       "number_of_reviews                        0.702132   \n",
       "reviews_per_month                        1.000000   \n",
       "calculated_host_listings_count          -0.065488   \n",
       "availability_365                         0.037794   \n",
       "\n",
       "                                calculated_host_listings_count  \\\n",
       "id                                                    0.162187   \n",
       "host_id                                               0.103270   \n",
       "latitude                                             -0.182688   \n",
       "longitude                                            -0.168422   \n",
       "price                                                 0.043074   \n",
       "minimum_nights                                       -0.000638   \n",
       "number_of_reviews                                    -0.119576   \n",
       "reviews_per_month                                    -0.065488   \n",
       "calculated_host_listings_count                        1.000000   \n",
       "availability_365                                      0.162445   \n",
       "\n",
       "                                availability_365  \n",
       "id                                      0.051100  \n",
       "host_id                                 0.086512  \n",
       "latitude                               -0.177597  \n",
       "longitude                              -0.145708  \n",
       "price                                   0.035139  \n",
       "minimum_nights                         -0.002381  \n",
       "number_of_reviews                       0.052081  \n",
       "reviews_per_month                       0.037794  \n",
       "calculated_host_listings_count          0.162445  \n",
       "availability_365                        1.000000  "
      ]
     },
     "execution_count": 14,
     "metadata": {},
     "output_type": "execute_result"
    }
   ],
   "source": [
    "# Create a correlation matrix using pandas\n",
    "\n",
    "df.corr()"
   ]
  },
  {
   "cell_type": "code",
   "execution_count": 15,
   "id": "1cd0fdb7",
   "metadata": {},
   "outputs": [
    {
     "data": {
      "image/png": "[encoded data removed]",
      "text/plain": [
       "<Figure size 288x288 with 1 Axes>"
      ]
     },
     "metadata": {
      "needs_background": "light"
     },
     "output_type": "display_data"
    }
   ],
   "source": [
    "# Create a correlation heatmap using matplotlib\n",
    "\n",
    "plt.matshow(df.corr())\n",
    "plt.show()"
   ]
  },
  {
   "cell_type": "code",
   "execution_count": 16,
   "id": "2fc576ca",
   "metadata": {},
   "outputs": [
    {
     "data": {
      "text/plain": [
       "<matplotlib.image.AxesImage at 0x7fd50bf37100>"
      ]
     },
     "execution_count": 16,
     "metadata": {},
     "output_type": "execute_result"
    },
    {
     "data": {
      "image/png": "[encoded data removed]",
      "text/plain": [
       "<Figure size 288x288 with 1 Axes>"
      ]
     },
     "metadata": {
      "needs_background": "light"
     },
     "output_type": "display_data"
    }
   ],
   "source": [
    "# Save figure\n",
    "plt.matshow(df.corr())\n",
    "#plt.savefig(\"out.png\") \n",
    "\n",
    "# This will save the image in the working directory. \n",
    "#If you don't know what this directory is the next line will show you how to check"
   ]
  },
  {
   "cell_type": "code",
   "execution_count": 17,
   "id": "872f5339",
   "metadata": {},
   "outputs": [
    {
     "data": {
      "text/plain": [
       "'/Users/Chloe/Documents/2. CareerFoundry/2. Data Immersion pt 1/Achievement 6/Final Data Project/03 Scripts'"
      ]
     },
     "execution_count": 17,
     "metadata": {},
     "output_type": "execute_result"
    }
   ],
   "source": [
    "#current dir\n",
    "cwd = os.getcwd()\n",
    "cwd"
   ]
  },
  {
   "cell_type": "code",
   "execution_count": 18,
   "id": "04a40fe6",
   "metadata": {},
   "outputs": [
    {
     "data": {
      "text/plain": [
       "Text(0.5, 1.0, 'Correlation Matrix')"
      ]
     },
     "execution_count": 18,
     "metadata": {},
     "output_type": "execute_result"
    },
    {
     "data": {
      "text/plain": [
       "<Figure size 576x576 with 0 Axes>"
      ]
     },
     "metadata": {},
     "output_type": "display_data"
    },
    {
     "data": {
      "image/png": "[encoded data removed]",
      "text/plain": [
       "<Figure size 288x288 with 2 Axes>"
      ]
     },
     "metadata": {
      "needs_background": "light"
     },
     "output_type": "display_data"
    }
   ],
   "source": [
    "# Add labels, a legend, and change the size of the heatmap\n",
    "\n",
    "f = plt.figure(figsize=(8, 8)) # figure size \n",
    "plt.matshow(df.corr())# type of plot\n",
    "plt.xticks(range(df.shape[1]), df.columns, fontsize=14, rotation=80) # x axis labels\n",
    "plt.yticks(range(df.shape[1]), df.columns, fontsize=14) # y axis labels\n",
    "cb = plt.colorbar() # add a colour legend (called colorbar)\n",
    "cb.ax.tick_params(labelsize=14) # add font size\n",
    "plt.title('Correlation Matrix', fontsize=14) # add title"
   ]
  },
  {
   "cell_type": "markdown",
   "id": "d0c9198c",
   "metadata": {},
   "source": [
    "Create a correlation heat map using seaborn:"
   ]
  },
  {
   "cell_type": "code",
   "execution_count": 19,
   "id": "5f54b4d1",
   "metadata": {},
   "outputs": [
    {
     "data": {
      "text/plain": [
       "Index(['id', 'name', 'host_id', 'neighbourhood_group', 'neighbourhood',\n",
       "       'latitude', 'longitude', 'room_type', 'price', 'minimum_nights',\n",
       "       'number_of_reviews', 'last_review', 'reviews_per_month',\n",
       "       'calculated_host_listings_count', 'availability_365', 'city'],\n",
       "      dtype='object')"
      ]
     },
     "execution_count": 19,
     "metadata": {},
     "output_type": "execute_result"
    }
   ],
   "source": [
    "df.columns"
   ]
  },
  {
   "cell_type": "code",
   "execution_count": 20,
   "id": "1bcefae2",
   "metadata": {},
   "outputs": [],
   "source": [
    "# Create a subset excluding the \"Date\" and \"No\" columns\n",
    "\n",
    "sub = df[['latitude', 'longitude', 'price', 'minimum_nights',\n",
    "       'number_of_reviews', 'reviews_per_month', 'calculated_host_listings_count', 'availability_365']]"
   ]
  },
  {
   "cell_type": "code",
   "execution_count": 21,
   "id": "68fb5142",
   "metadata": {},
   "outputs": [
    {
     "data": {
      "text/html": [
       "<div>\n",
       "<style scoped>\n",
       "    .dataframe tbody tr th:only-of-type {\n",
       "        vertical-align: middle;\n",
       "    }\n",
       "\n",
       "    .dataframe tbody tr th {\n",
       "        vertical-align: top;\n",
       "    }\n",
       "\n",
       "    .dataframe thead th {\n",
       "        text-align: right;\n",
       "    }\n",
       "</style>\n",
       "<table border=\"1\" class=\"dataframe\">\n",
       "  <thead>\n",
       "    <tr style=\"text-align: right;\">\n",
       "      <th></th>\n",
       "      <th>latitude</th>\n",
       "      <th>longitude</th>\n",
       "      <th>price</th>\n",
       "      <th>minimum_nights</th>\n",
       "      <th>number_of_reviews</th>\n",
       "      <th>reviews_per_month</th>\n",
       "      <th>calculated_host_listings_count</th>\n",
       "      <th>availability_365</th>\n",
       "    </tr>\n",
       "  </thead>\n",
       "  <tbody>\n",
       "    <tr>\n",
       "      <th>0</th>\n",
       "      <td>35.651460</td>\n",
       "      <td>-82.627920</td>\n",
       "      <td>60</td>\n",
       "      <td>1</td>\n",
       "      <td>138</td>\n",
       "      <td>1.14000</td>\n",
       "      <td>1</td>\n",
       "      <td>0</td>\n",
       "    </tr>\n",
       "    <tr>\n",
       "      <th>1</th>\n",
       "      <td>35.597790</td>\n",
       "      <td>-82.555400</td>\n",
       "      <td>470</td>\n",
       "      <td>1</td>\n",
       "      <td>114</td>\n",
       "      <td>1.03000</td>\n",
       "      <td>11</td>\n",
       "      <td>288</td>\n",
       "    </tr>\n",
       "    <tr>\n",
       "      <th>2</th>\n",
       "      <td>35.606700</td>\n",
       "      <td>-82.555630</td>\n",
       "      <td>75</td>\n",
       "      <td>30</td>\n",
       "      <td>89</td>\n",
       "      <td>0.81000</td>\n",
       "      <td>2</td>\n",
       "      <td>298</td>\n",
       "    </tr>\n",
       "    <tr>\n",
       "      <th>3</th>\n",
       "      <td>35.578640</td>\n",
       "      <td>-82.595780</td>\n",
       "      <td>90</td>\n",
       "      <td>1</td>\n",
       "      <td>267</td>\n",
       "      <td>2.39000</td>\n",
       "      <td>5</td>\n",
       "      <td>0</td>\n",
       "    </tr>\n",
       "    <tr>\n",
       "      <th>4</th>\n",
       "      <td>35.614420</td>\n",
       "      <td>-82.541270</td>\n",
       "      <td>125</td>\n",
       "      <td>30</td>\n",
       "      <td>58</td>\n",
       "      <td>0.52000</td>\n",
       "      <td>1</td>\n",
       "      <td>0</td>\n",
       "    </tr>\n",
       "    <tr>\n",
       "      <th>...</th>\n",
       "      <td>...</td>\n",
       "      <td>...</td>\n",
       "      <td>...</td>\n",
       "      <td>...</td>\n",
       "      <td>...</td>\n",
       "      <td>...</td>\n",
       "      <td>...</td>\n",
       "      <td>...</td>\n",
       "    </tr>\n",
       "    <tr>\n",
       "      <th>226025</th>\n",
       "      <td>38.903880</td>\n",
       "      <td>-77.029730</td>\n",
       "      <td>104</td>\n",
       "      <td>1</td>\n",
       "      <td>0</td>\n",
       "      <td>1.43145</td>\n",
       "      <td>2</td>\n",
       "      <td>99</td>\n",
       "    </tr>\n",
       "    <tr>\n",
       "      <th>226026</th>\n",
       "      <td>38.920820</td>\n",
       "      <td>-76.990980</td>\n",
       "      <td>151</td>\n",
       "      <td>2</td>\n",
       "      <td>0</td>\n",
       "      <td>1.43145</td>\n",
       "      <td>1</td>\n",
       "      <td>300</td>\n",
       "    </tr>\n",
       "    <tr>\n",
       "      <th>226027</th>\n",
       "      <td>38.911170</td>\n",
       "      <td>-77.033540</td>\n",
       "      <td>240</td>\n",
       "      <td>2</td>\n",
       "      <td>0</td>\n",
       "      <td>1.43145</td>\n",
       "      <td>1</td>\n",
       "      <td>173</td>\n",
       "    </tr>\n",
       "    <tr>\n",
       "      <th>226028</th>\n",
       "      <td>38.926630</td>\n",
       "      <td>-77.044360</td>\n",
       "      <td>60</td>\n",
       "      <td>21</td>\n",
       "      <td>0</td>\n",
       "      <td>1.43145</td>\n",
       "      <td>5</td>\n",
       "      <td>362</td>\n",
       "    </tr>\n",
       "    <tr>\n",
       "      <th>226029</th>\n",
       "      <td>38.911569</td>\n",
       "      <td>-77.009431</td>\n",
       "      <td>79</td>\n",
       "      <td>7</td>\n",
       "      <td>0</td>\n",
       "      <td>1.43145</td>\n",
       "      <td>2</td>\n",
       "      <td>62</td>\n",
       "    </tr>\n",
       "  </tbody>\n",
       "</table>\n",
       "<p>226030 rows × 8 columns</p>\n",
       "</div>"
      ],
      "text/plain": [
       "         latitude  longitude  price  minimum_nights  number_of_reviews  \\\n",
       "0       35.651460 -82.627920     60               1                138   \n",
       "1       35.597790 -82.555400    470               1                114   \n",
       "2       35.606700 -82.555630     75              30                 89   \n",
       "3       35.578640 -82.595780     90               1                267   \n",
       "4       35.614420 -82.541270    125              30                 58   \n",
       "...           ...        ...    ...             ...                ...   \n",
       "226025  38.903880 -77.029730    104               1                  0   \n",
       "226026  38.920820 -76.990980    151               2                  0   \n",
       "226027  38.911170 -77.033540    240               2                  0   \n",
       "226028  38.926630 -77.044360     60              21                  0   \n",
       "226029  38.911569 -77.009431     79               7                  0   \n",
       "\n",
       "        reviews_per_month  calculated_host_listings_count  availability_365  \n",
       "0                 1.14000                               1                 0  \n",
       "1                 1.03000                              11               288  \n",
       "2                 0.81000                               2               298  \n",
       "3                 2.39000                               5                 0  \n",
       "4                 0.52000                               1                 0  \n",
       "...                   ...                             ...               ...  \n",
       "226025            1.43145                               2                99  \n",
       "226026            1.43145                               1               300  \n",
       "226027            1.43145                               1               173  \n",
       "226028            1.43145                               5               362  \n",
       "226029            1.43145                               2                62  \n",
       "\n",
       "[226030 rows x 8 columns]"
      ]
     },
     "execution_count": 21,
     "metadata": {},
     "output_type": "execute_result"
    }
   ],
   "source": [
    "sub"
   ]
  },
  {
   "cell_type": "code",
   "execution_count": 22,
   "id": "55b2052a",
   "metadata": {
    "scrolled": true
   },
   "outputs": [
    {
     "data": {
      "image/png": "[encoded data removed]",
      "text/plain": [
       "<Figure size 720x720 with 2 Axes>"
      ]
     },
     "metadata": {
      "needs_background": "light"
     },
     "output_type": "display_data"
    }
   ],
   "source": [
    "# Create a subplot with matplotlib\n",
    "f,ax = plt.subplots(figsize=(10,10))\n",
    "\n",
    "# Create the correlation heatmap in seaborn by applying a heatmap onto the correlation matrix and the subplots defined above.\n",
    "corr = sns.heatmap(sub.corr(), annot = True, ax = ax) # The `annot` argument allows the plot to \n",
    "#place the correlation coefficients onto the heatmap."
   ]
  },
  {
   "cell_type": "code",
   "execution_count": 24,
   "id": "c9ebb2d4",
   "metadata": {},
   "outputs": [
    {
     "data": {
      "text/plain": [
       "<Figure size 432x288 with 0 Axes>"
      ]
     },
     "metadata": {},
     "output_type": "display_data"
    }
   ],
   "source": [
    "sub.corr = 'corr_heatmap.png'\n",
    "#print\n",
    "plt.savefig(sub.corr)"
   ]
  },
  {
   "cell_type": "markdown",
   "id": "fa261a1a",
   "metadata": {},
   "source": [
    "The strongest correlation shown by the heat map is +.7 between the variables 'number_of_reviews' and 'reviews_per_month' which makes sense and suggests consistency within the data set. The other notable correlation is at +.58 between longitude and latitude. This could be worth further investigation."
   ]
  },
  {
   "cell_type": "markdown",
   "id": "73a14356",
   "metadata": {},
   "source": [
    "# Scatterplots"
   ]
  },
  {
   "cell_type": "code",
   "execution_count": 24,
   "id": "bdce2b49",
   "metadata": {},
   "outputs": [
    {
     "data": {
      "text/plain": [
       "<seaborn.axisgrid.FacetGrid at 0x7fd5dd7647c0>"
      ]
     },
     "execution_count": 24,
     "metadata": {},
     "output_type": "execute_result"
    },
    {
     "data": {
      "image/png": "[encoded data removed]",
      "text/plain": [
       "<Figure size 360x360 with 1 Axes>"
      ]
     },
     "metadata": {
      "needs_background": "light"
     },
     "output_type": "display_data"
    }
   ],
   "source": [
    "# Create a scatterplot in seaborn\n",
    "\n",
    "sns.lmplot(x = 'number_of_reviews', y = 'reviews_per_month', data = df)"
   ]
  },
  {
   "cell_type": "markdown",
   "id": "7b739fa3",
   "metadata": {},
   "source": [
    "The scatterplot above shows a strong positive correlation between reviews_per_month and number_of_reviews"
   ]
  },
  {
   "cell_type": "code",
   "execution_count": 25,
   "id": "04949b48",
   "metadata": {},
   "outputs": [
    {
     "data": {
      "text/plain": [
       "<seaborn.axisgrid.FacetGrid at 0x7fd5de7ddee0>"
      ]
     },
     "execution_count": 25,
     "metadata": {},
     "output_type": "execute_result"
    },
    {
     "data": {
      "image/png": "[encoded data removed]",
      "text/plain": [
       "<Figure size 360x360 with 1 Axes>"
      ]
     },
     "metadata": {
      "needs_background": "light"
     },
     "output_type": "display_data"
    }
   ],
   "source": [
    "# Create a scatterplot in seaborn\n",
    "\n",
    "sns.lmplot(x = 'price', y = 'availability_365', data = df)"
   ]
  },
  {
   "cell_type": "code",
   "execution_count": 26,
   "id": "32650973",
   "metadata": {},
   "outputs": [
    {
     "data": {
      "text/plain": [
       "<seaborn.axisgrid.FacetGrid at 0x7fd5dc746940>"
      ]
     },
     "execution_count": 26,
     "metadata": {},
     "output_type": "execute_result"
    },
    {
     "data": {
      "image/png": "[encoded data removed]",
      "text/plain": [
       "<Figure size 360x360 with 1 Axes>"
      ]
     },
     "metadata": {
      "needs_background": "light"
     },
     "output_type": "display_data"
    }
   ],
   "source": [
    "# Create a scatterplot in seaborn\n",
    "\n",
    "sns.lmplot(x = 'price', y = 'number_of_reviews', data = df)"
   ]
  },
  {
   "cell_type": "markdown",
   "id": "8ad0af61",
   "metadata": {},
   "source": [
    "# Pair Plots"
   ]
  },
  {
   "cell_type": "code",
   "execution_count": 27,
   "id": "257e85f8",
   "metadata": {},
   "outputs": [],
   "source": [
    "# Keep only the variables you want to use in the pair plot\n",
    "\n",
    "#sub_2 = sub[['price', 'minimum_nights', 'number_of_reviews', 'availability_365']]"
   ]
  },
  {
   "cell_type": "code",
   "execution_count": 28,
   "id": "20b13e84",
   "metadata": {},
   "outputs": [],
   "source": [
    "# Create a pair plot \n",
    "\n",
    "#g = sns.pairplot(sub_2)"
   ]
  },
  {
   "cell_type": "markdown",
   "id": "ca2c0463",
   "metadata": {},
   "source": [
    "# Categorical Plots"
   ]
  },
  {
   "cell_type": "code",
   "execution_count": 29,
   "id": "524afb2c",
   "metadata": {},
   "outputs": [
    {
     "data": {
      "text/plain": [
       "<AxesSubplot:xlabel='price', ylabel='Count'>"
      ]
     },
     "execution_count": 29,
     "metadata": {},
     "output_type": "execute_result"
    },
    {
     "data": {
      "image/png": "[encoded data removed]",
      "text/plain": [
       "<Figure size 432x288 with 1 Axes>"
      ]
     },
     "metadata": {
      "needs_background": "light"
     },
     "output_type": "display_data"
    }
   ],
   "source": [
    "# Use a histogram to visualize the distribution of the variables. \n",
    "# This way, you can determine sensible categories for the price ranges. \n",
    "# You don't want to end up with too few observations in any one of the categories.\n",
    "# The argument \"kde\" add a line that encompasses the distribution\n",
    "\n",
    "sns.histplot(df['price'], bins = 20, kde = True)"
   ]
  },
  {
   "cell_type": "code",
   "execution_count": 30,
   "id": "c442096b",
   "metadata": {},
   "outputs": [
    {
     "data": {
      "text/plain": [
       "<AxesSubplot:xlabel='reviews_per_month', ylabel='Count'>"
      ]
     },
     "execution_count": 30,
     "metadata": {},
     "output_type": "execute_result"
    },
    {
     "data": {
      "image/png": "[encoded data removed]",
      "text/plain": [
       "<Figure size 432x288 with 1 Axes>"
      ]
     },
     "metadata": {
      "needs_background": "light"
     },
     "output_type": "display_data"
    }
   ],
   "source": [
    "sns.histplot(df['reviews_per_month'], bins = 20, kde = True)"
   ]
  },
  {
   "cell_type": "code",
   "execution_count": 31,
   "id": "38cfd9dc",
   "metadata": {},
   "outputs": [
    {
     "data": {
      "text/plain": [
       "<AxesSubplot:xlabel='number_of_reviews', ylabel='Count'>"
      ]
     },
     "execution_count": 31,
     "metadata": {},
     "output_type": "execute_result"
    },
    {
     "data": {
      "image/png": "[encoded data removed]",
      "text/plain": [
       "<Figure size 432x288 with 1 Axes>"
      ]
     },
     "metadata": {
      "needs_background": "light"
     },
     "output_type": "display_data"
    }
   ],
   "source": [
    "sns.histplot(df['number_of_reviews'], bins = 20, kde = True)"
   ]
  },
  {
   "cell_type": "code",
   "execution_count": 32,
   "id": "c21b99d2",
   "metadata": {},
   "outputs": [],
   "source": [
    "df.loc[df['number_of_reviews'] < 50, 'Reviews category'] = 'Low in reviews'"
   ]
  },
  {
   "cell_type": "code",
   "execution_count": 33,
   "id": "b8c65b3e",
   "metadata": {},
   "outputs": [],
   "source": [
    "df.loc[(df['number_of_reviews'] >= 50) & (df['number_of_reviews'] < 100), 'Reviews category'] = 'Averagely reviewed'"
   ]
  },
  {
   "cell_type": "code",
   "execution_count": 35,
   "id": "964db255",
   "metadata": {},
   "outputs": [],
   "source": [
    "df.loc[df['number_of_reviews'] >= 100, 'Reviews category'] = 'Highly reviewed'"
   ]
  },
  {
   "cell_type": "code",
   "execution_count": 36,
   "id": "f57fc3b0",
   "metadata": {},
   "outputs": [
    {
     "data": {
      "text/plain": [
       "Low in reviews        178505\n",
       "Averagely reviewed     23776\n",
       "Highly reviewed        23749\n",
       "Name: Reviews category, dtype: int64"
      ]
     },
     "execution_count": 36,
     "metadata": {},
     "output_type": "execute_result"
    }
   ],
   "source": [
    "df['Reviews category'].value_counts(dropna = False)"
   ]
  },
  {
   "cell_type": "code",
   "execution_count": 37,
   "id": "a12a7fdc",
   "metadata": {},
   "outputs": [
    {
     "data": {
      "text/plain": [
       "226030"
      ]
     },
     "execution_count": 37,
     "metadata": {},
     "output_type": "execute_result"
    }
   ],
   "source": [
    "178505+23776+23749"
   ]
  },
  {
   "cell_type": "code",
   "execution_count": 38,
   "id": "214a1b3a",
   "metadata": {},
   "outputs": [
    {
     "data": {
      "text/plain": [
       "(226030, 18)"
      ]
     },
     "execution_count": 38,
     "metadata": {},
     "output_type": "execute_result"
    }
   ],
   "source": [
    "df.shape"
   ]
  },
  {
   "cell_type": "code",
   "execution_count": 39,
   "id": "b3ccf1ab",
   "metadata": {},
   "outputs": [
    {
     "data": {
      "text/plain": [
       "Index(['id', 'name', 'host_id', 'neighbourhood_group', 'neighbourhood',\n",
       "       'latitude', 'longitude', 'room_type', 'price', 'minimum_nights',\n",
       "       'number_of_reviews', 'last_review', 'reviews_per_month',\n",
       "       'calculated_host_listings_count', 'availability_365', 'city',\n",
       "       'Reviews category', 'Review category'],\n",
       "      dtype='object')"
      ]
     },
     "execution_count": 39,
     "metadata": {},
     "output_type": "execute_result"
    }
   ],
   "source": [
    "df.columns"
   ]
  },
  {
   "cell_type": "code",
   "execution_count": 46,
   "id": "f5409dd1",
   "metadata": {},
   "outputs": [
    {
     "data": {
      "image/png": "[encoded data removed]",
      "text/plain": [
       "<Figure size 495.725x360 with 1 Axes>"
      ]
     },
     "metadata": {},
     "output_type": "display_data"
    }
   ],
   "source": [
    "# Create a categorical plot in seaborn using the reviews categories created above\n",
    "\n",
    "sns.set(style=\"ticks\")\n",
    "g = sns.catplot(x=\"room_type\", y=\"number_of_reviews\", hue=\"Reviews category\", data=df)"
   ]
  },
  {
   "cell_type": "code",
   "execution_count": 47,
   "id": "6431bbd2",
   "metadata": {},
   "outputs": [],
   "source": [
    "# fig = g.get_figure()\n",
    "g.savefig(\"out.png\") \n",
    "\n",
    "# Again, the image will be saved in the working directory. "
   ]
  },
  {
   "cell_type": "code",
   "execution_count": null,
   "id": "2e9b6f5b",
   "metadata": {},
   "outputs": [],
   "source": []
  }
 ],
 "metadata": {
  "kernelspec": {
   "display_name": "Python 3 (ipykernel)",
   "language": "python",
   "name": "python3"
  },
  "language_info": {
   "codemirror_mode": {
    "name": "ipython",
    "version": 3
   },
   "file_extension": ".py",
   "mimetype": "text/x-python",
   "name": "python",
   "nbconvert_exporter": "python",
   "pygments_lexer": "ipython3",
   "version": "3.9.12"
  }
 },
 "nbformat": 4,
 "nbformat_minor": 5
}
